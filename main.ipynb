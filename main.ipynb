{
 "cells": [
  {
   "cell_type": "code",
   "execution_count": null,
   "id": "0578adaa-047c-4523-a194-fe8bc4c7aa0e",
   "metadata": {},
   "outputs": [],
   "source": [
    "%load_ext autoreload\n",
    "%autoreload 2\n",
    "\n",
    "import sys; sys.path.insert(0, '..')"
   ]
  },
  {
   "cell_type": "code",
   "execution_count": null,
   "id": "9ae075ca-90de-499c-8b57-7e8a3d4b955b",
   "metadata": {},
   "outputs": [],
   "source": [
    "import gzip\n",
    "import json\n",
    "import os\n",
    "import pathlib\n",
    "import folium\n",
    "\n",
    "import fitparse\n",
    "import pandas as pd\n",
    "from tqdm import tqdm\n",
    "from rich import print\n",
    "import numpy as np\n",
    "\n",
    "from shapely import LineString\n",
    "\n",
    "import geopandas"
   ]
  },
  {
   "cell_type": "code",
   "execution_count": null,
   "id": "0e41e8a0-ec16-4266-82a1-d81320372166",
   "metadata": {},
   "outputs": [],
   "source": [
    "from convert import (process_activities_dataframe, count_files)"
   ]
  },
  {
   "cell_type": "code",
   "execution_count": null,
   "id": "d51971a6-438f-4c93-8769-2340f6d22daa",
   "metadata": {},
   "outputs": [],
   "source": [
    "from main import main, unzip_activities, convert_activities, extract_polylines"
   ]
  },
  {
   "cell_type": "code",
   "execution_count": null,
   "id": "78a2d92d-c49c-4ce7-9ce7-3694436cede5",
   "metadata": {},
   "outputs": [],
   "source": [
    "IN_DIR = \"data/export\"\n",
    "OUT_DIR = \"data/out\""
   ]
  },
  {
   "cell_type": "code",
   "execution_count": null,
   "id": "3a1de5bd-3a16-4006-b9ea-6ef699c2812a",
   "metadata": {},
   "outputs": [],
   "source": [
    "# ! rm -rf data/out\n",
    "# ! mkdir data/out"
   ]
  },
  {
   "cell_type": "code",
   "execution_count": null,
   "id": "0d6bff01-7d2a-4199-a535-a4180b14021a",
   "metadata": {},
   "outputs": [],
   "source": [
    "# read and prepepare activities data\n",
    "df = pd.read_csv(pathlib.Path(IN_DIR).joinpath(\"activities.csv\"))\n",
    "df = process_activities_dataframe(df)\n",
    "len(df)"
   ]
  },
  {
   "cell_type": "code",
   "execution_count": null,
   "id": "66752ab2-89df-48fb-adbe-7e1ad8dfe688",
   "metadata": {},
   "outputs": [],
   "source": [
    "df.head()"
   ]
  },
  {
   "cell_type": "code",
   "execution_count": null,
   "id": "c7c57a4d-322c-4bb8-a174-8bd0161337f5",
   "metadata": {},
   "outputs": [],
   "source": []
  },
  {
   "cell_type": "markdown",
   "id": "0120150d-2ca0-4cdc-9643-5e5e6eeadcab",
   "metadata": {},
   "source": [
    "## Unzip"
   ]
  },
  {
   "cell_type": "code",
   "execution_count": null,
   "id": "a1c02649-b168-4b28-b554-af9555e48c28",
   "metadata": {},
   "outputs": [],
   "source": [
    "# df = unzip_activities(df)"
   ]
  },
  {
   "cell_type": "code",
   "execution_count": null,
   "id": "8b712b4b-e5ae-460c-978c-4087b97b0bae",
   "metadata": {},
   "outputs": [],
   "source": [
    "# df.head()"
   ]
  },
  {
   "cell_type": "code",
   "execution_count": null,
   "id": "85077021-84c3-40f1-8573-77a186953277",
   "metadata": {},
   "outputs": [],
   "source": [
    "# len(df)"
   ]
  },
  {
   "cell_type": "code",
   "execution_count": null,
   "id": "10994b04-303a-4fe8-9e77-0087aa4243d8",
   "metadata": {},
   "outputs": [],
   "source": []
  },
  {
   "cell_type": "markdown",
   "id": "cc84216b-019a-4ef3-85c7-d64cc266926f",
   "metadata": {},
   "source": [
    "## Extract activities"
   ]
  },
  {
   "cell_type": "code",
   "execution_count": null,
   "id": "41d53592-45dc-4ff9-a505-d4031cd176c7",
   "metadata": {},
   "outputs": [],
   "source": [
    "# df = convert_activities(df)"
   ]
  },
  {
   "cell_type": "code",
   "execution_count": null,
   "id": "017689b0-720b-4231-ab4d-38391974c906",
   "metadata": {},
   "outputs": [],
   "source": [
    "# df.head()"
   ]
  },
  {
   "cell_type": "code",
   "execution_count": null,
   "id": "ae9cda53-224a-4803-90b5-d28392f0501d",
   "metadata": {},
   "outputs": [],
   "source": [
    "# len(df)"
   ]
  },
  {
   "cell_type": "code",
   "execution_count": null,
   "id": "07618ba8-7806-4f81-8a54-f1f9dcaed6d4",
   "metadata": {},
   "outputs": [],
   "source": [
    "# df.to_csv(\"save.csv\", index=False)"
   ]
  },
  {
   "cell_type": "markdown",
   "id": "f8b6374e-2ff4-4691-9c70-60bf2c2b0874",
   "metadata": {},
   "source": [
    "## Get geometry"
   ]
  },
  {
   "cell_type": "code",
   "execution_count": null,
   "id": "a6738fae-17cb-4b39-a6dd-2de61e17f85d",
   "metadata": {},
   "outputs": [],
   "source": [
    "df = pd.read_csv(\"data/save.csv\")"
   ]
  },
  {
   "cell_type": "code",
   "execution_count": null,
   "id": "eb28e07f-f83c-49ad-a6b0-82f40adf08cd",
   "metadata": {},
   "outputs": [],
   "source": [
    "df = extract_polylines(df)"
   ]
  },
  {
   "cell_type": "code",
   "execution_count": null,
   "id": "1501cb75-b245-4959-8804-6bca9fafb3b3",
   "metadata": {},
   "outputs": [],
   "source": [
    "df.head(2)"
   ]
  },
  {
   "cell_type": "markdown",
   "id": "168f2f49-fee8-4850-bdfc-d73d6cf100b3",
   "metadata": {},
   "source": [
    "### Convert geo"
   ]
  },
  {
   "cell_type": "code",
   "execution_count": null,
   "id": "d2e2aab6-b544-4fb4-be46-d9181f4cc011",
   "metadata": {},
   "outputs": [],
   "source": [
    "# df = pd.read_csv(\"save_lines.csv\")"
   ]
  },
  {
   "cell_type": "code",
   "execution_count": null,
   "id": "96832a59-0414-47e7-b11e-a770aa082741",
   "metadata": {},
   "outputs": [],
   "source": [
    "# convert to multiline / geopadas\n",
    "\n",
    "# df['multiline'] = df['multiline'].apply(lambda x: LineString(x))\n",
    "# df = geopandas.GeoDataFrame(df)\n",
    "# df.rename(columns={\"multiline\": \"geometry\"}, inplace=True)\n",
    "# df = df.set_geometry(\"geometry\")"
   ]
  },
  {
   "cell_type": "code",
   "execution_count": null,
   "id": "258d9aae-5088-4447-b00e-788b69ea0286",
   "metadata": {},
   "outputs": [],
   "source": [
    "# df.to_parquet(\"geo.parquet\")"
   ]
  },
  {
   "cell_type": "markdown",
   "id": "fae1e52a-3a88-4501-b8e2-1683dc6481ee",
   "metadata": {},
   "source": [
    "## Merge"
   ]
  },
  {
   "cell_type": "code",
   "execution_count": null,
   "id": "b60ea69d-fd6a-4917-8b37-5a96d41b8216",
   "metadata": {},
   "outputs": [],
   "source": [
    "df = geopandas.read_parquet(\"geo.parquet\")\n",
    "df = df.drop(\"Filename\", axis=1)\n",
    "df = df.set_crs(\"4326\")"
   ]
  },
  {
   "cell_type": "code",
   "execution_count": null,
   "id": "68c17a56-f2f6-481d-a040-5fcbc07a542a",
   "metadata": {},
   "outputs": [],
   "source": [
    "df.head(2)"
   ]
  },
  {
   "cell_type": "code",
   "execution_count": null,
   "id": "3b83ccab-ac77-4814-8874-bef477cf48d2",
   "metadata": {},
   "outputs": [],
   "source": [
    "cities = geopandas.read_file(\"geo.geojson\")"
   ]
  },
  {
   "cell_type": "code",
   "execution_count": null,
   "id": "1e5a1773-019d-456e-a03e-ce27db016392",
   "metadata": {},
   "outputs": [],
   "source": [
    "# def reverse(coords):\n",
    "#     return [(x[1], x[0]) for x in coords]\n",
    "\n",
    "# # select one route\n",
    "# geo_route = df.loc[1, \"geometry\"]\n",
    "# route = list(geo_route.coords)\n",
    "\n",
    "# # make map\n",
    "# m = folium.Map(location=(56, 10), zoom_start=7, tiles=\"cartodb positron\")\n",
    "# m.add_child(folium.PolyLine(locations=reverse(route)))\n",
    "# m.add_child(folium.GeoJson(data=cities.to_json()))"
   ]
  },
  {
   "cell_type": "code",
   "execution_count": null,
   "id": "ba772a07-55d8-4103-baaf-63650680d146",
   "metadata": {},
   "outputs": [],
   "source": [
    "joined = df.sjoin(cities)\n",
    "# joined = joined.drop(\"index_right\", axis=1)"
   ]
  },
  {
   "cell_type": "code",
   "execution_count": null,
   "id": "df56961b-8db4-4460-aaa6-6f97c056e473",
   "metadata": {},
   "outputs": [],
   "source": [
    "joined = joined.drop(\"index_right\", axis=1)"
   ]
  },
  {
   "cell_type": "code",
   "execution_count": null,
   "id": "2fffa665-1ac8-4847-b8f2-bc1f7829582c",
   "metadata": {},
   "outputs": [],
   "source": [
    "joined.to_parquet(\"joined.parquet\", index=False)"
   ]
  },
  {
   "cell_type": "code",
   "execution_count": null,
   "id": "8bc49044-b59b-4075-9601-471f38be4bba",
   "metadata": {},
   "outputs": [],
   "source": []
  }
 ],
 "metadata": {
  "kernelspec": {
   "display_name": "Python 3 (ipykernel)",
   "language": "python",
   "name": "python3"
  },
  "language_info": {
   "codemirror_mode": {
    "name": "ipython",
    "version": 3
   },
   "file_extension": ".py",
   "mimetype": "text/x-python",
   "name": "python",
   "nbconvert_exporter": "python",
   "pygments_lexer": "ipython3",
   "version": "3.12.7"
  }
 },
 "nbformat": 4,
 "nbformat_minor": 5
}
