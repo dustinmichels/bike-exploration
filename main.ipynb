{
 "cells": [
  {
   "cell_type": "code",
   "execution_count": null,
   "id": "9ae075ca-90de-499c-8b57-7e8a3d4b955b",
   "metadata": {},
   "outputs": [],
   "source": [
    "import gzip\n",
    "import json\n",
    "import pathlib\n",
    "\n",
    "import ezgpx\n",
    "\n",
    "from fit2gpx import StravaConverter\n",
    "import pandas as pd\n",
    "from garmin_fit_sdk import Decoder, Stream\n",
    "import garmin_fit_sdk\n",
    "from rich import print"
   ]
  },
  {
   "cell_type": "code",
   "execution_count": null,
   "id": "78a2d92d-c49c-4ce7-9ce7-3694436cede5",
   "metadata": {},
   "outputs": [],
   "source": [
    "df = pd.read_csv(\"data/export_26599358/activities.csv\")"
   ]
  },
  {
   "cell_type": "code",
   "execution_count": null,
   "id": "5674a755-9555-45cb-9a0b-58735f6fcecb",
   "metadata": {},
   "outputs": [],
   "source": [
    "rides = df[df['Activity Type'].isin(['Ride', 'E-Bike Ride'])]\n",
    "len(rides)"
   ]
  },
  {
   "cell_type": "code",
   "execution_count": null,
   "id": "2930b9b7-a423-4b0b-9df4-3d2027fd6c88",
   "metadata": {},
   "outputs": [],
   "source": [
    "rides['Activity ID']"
   ]
  },
  {
   "cell_type": "markdown",
   "id": "c8b3e3ca-d951-4384-ad25-12f0f380b480",
   "metadata": {},
   "source": [
    "## fit"
   ]
  },
  {
   "cell_type": "code",
   "execution_count": null,
   "id": "b2dde009-5475-433f-9a68-5366464500d3",
   "metadata": {},
   "outputs": [],
   "source": [
    "file = \"data/export_26599358/activities/9584919724.fit.gz\"\n",
    "file_out = \"data/out/10013390402.fit\""
   ]
  },
  {
   "cell_type": "code",
   "execution_count": null,
   "id": "1a1bf350-c567-4336-b49f-8ce0cb8223b6",
   "metadata": {},
   "outputs": [],
   "source": [
    "path = pathlib.Path(\"data/export_26599358/activities_gpx\")"
   ]
  },
  {
   "cell_type": "code",
   "execution_count": null,
   "id": "a01a5dda-8c51-4064-97a0-6981ee5a5690",
   "metadata": {},
   "outputs": [],
   "source": [
    "files = [x for x in path.glob('**/*') if x.is_file()]"
   ]
  },
  {
   "cell_type": "code",
   "execution_count": null,
   "id": "24b8004d-8d01-4bd1-8379-562dad2d6487",
   "metadata": {},
   "outputs": [],
   "source": [
    "len(files)"
   ]
  },
  {
   "cell_type": "code",
   "execution_count": null,
   "id": "88a9ae87-856d-4ebe-8060-6b370b971c25",
   "metadata": {},
   "outputs": [],
   "source": [
    "# gpx = ezgpx.GPX(\n",
    "#     \"data/export_26599358/activities_gpx/10061108292.gpx\"\n",
    "# )"
   ]
  },
  {
   "cell_type": "code",
   "execution_count": null,
   "id": "538df9d6-1111-4f55-8ae3-d63f72660bc9",
   "metadata": {},
   "outputs": [],
   "source": []
  },
  {
   "cell_type": "code",
   "execution_count": null,
   "id": "c6eb04c4-1079-40bd-8357-d40a66d7b626",
   "metadata": {},
   "outputs": [],
   "source": []
  },
  {
   "cell_type": "code",
   "execution_count": null,
   "id": "9e47dd96-7949-4501-a5a3-e1ca97efa5f8",
   "metadata": {},
   "outputs": [],
   "source": []
  },
  {
   "cell_type": "code",
   "execution_count": null,
   "id": "bc0b01f8-9b2a-4818-8774-391ea71c07fc",
   "metadata": {},
   "outputs": [],
   "source": [
    "# DIR_STRAVA = \"data/export_26599358\"\n",
    "\n",
    "# # Step 1: Create StravaConverter object\n",
    "# # - Note: the dir_in must be the path to the central unzipped Strava bulk export folder\n",
    "# # - Note: You can specify the dir_out if you wish. By default it is set to 'activities_gpx', which will be created in main Strava folder specified.\n",
    "\n",
    "# strava_conv = StravaConverter(dir_in=DIR_STRAVA)\n",
    "\n",
    "# # Step 2: Unzip the zipped files\n",
    "# strava_conv.unzip_activities()\n",
    "\n",
    "# # Step 3: Add metadata to existing GPX files\n",
    "# strava_conv.add_metadata_to_gpx()\n",
    "\n",
    "# # Step 4: Convert FIT to GPX\n",
    "# strava_conv.strava_fit_to_gpx()"
   ]
  },
  {
   "cell_type": "code",
   "execution_count": null,
   "id": "aff4f5e8-768a-465f-89eb-aa7d20cc9e3d",
   "metadata": {},
   "outputs": [],
   "source": []
  },
  {
   "cell_type": "code",
   "execution_count": null,
   "id": "14e65461-b29f-4cd3-91b9-a5541ad22a0f",
   "metadata": {},
   "outputs": [],
   "source": []
  },
  {
   "cell_type": "code",
   "execution_count": null,
   "id": "cc7e6b84-3b45-4c6b-a7c2-9eb7c4ba93ca",
   "metadata": {},
   "outputs": [],
   "source": []
  },
  {
   "cell_type": "code",
   "execution_count": null,
   "id": "7266e5a1-f61e-44f4-ac79-e913a924abda",
   "metadata": {},
   "outputs": [],
   "source": []
  },
  {
   "cell_type": "code",
   "execution_count": null,
   "id": "e069eefa-29b3-4522-b7cb-c79ae03f1942",
   "metadata": {},
   "outputs": [],
   "source": []
  },
  {
   "cell_type": "code",
   "execution_count": null,
   "id": "5de2db59-252e-4b90-986a-aa032da4b3e7",
   "metadata": {},
   "outputs": [],
   "source": [
    "with gzip.open(file, 'rb') as f:\n",
    "    content = f.read()"
   ]
  },
  {
   "cell_type": "code",
   "execution_count": null,
   "id": "fefe00b1-8723-4763-af99-0d5fcddfef34",
   "metadata": {},
   "outputs": [],
   "source": [
    "type(content)"
   ]
  },
  {
   "cell_type": "code",
   "execution_count": null,
   "id": "9b690284-5c91-4d52-8ec3-0aefe9cfcdda",
   "metadata": {},
   "outputs": [],
   "source": [
    "stream = Stream.from_byte_array(content)"
   ]
  },
  {
   "cell_type": "code",
   "execution_count": null,
   "id": "7ef0eaa5-87dd-456f-af3f-5abc9341653b",
   "metadata": {},
   "outputs": [],
   "source": [
    "decoder = Decoder(stream)"
   ]
  },
  {
   "cell_type": "code",
   "execution_count": null,
   "id": "831eb364-eacf-4d1d-bbee-43737522ae22",
   "metadata": {},
   "outputs": [],
   "source": [
    "messages, errors = decoder.read()"
   ]
  },
  {
   "cell_type": "code",
   "execution_count": null,
   "id": "5c504d2c-76a3-4ba7-9eb1-1270496f0b3b",
   "metadata": {},
   "outputs": [],
   "source": [
    "decoder.is_fit()"
   ]
  },
  {
   "cell_type": "code",
   "execution_count": null,
   "id": "68c79568-14f3-49ed-b04e-f7bf62c70d1d",
   "metadata": {},
   "outputs": [],
   "source": [
    "decoder.check_integrity()"
   ]
  },
  {
   "cell_type": "code",
   "execution_count": null,
   "id": "3e873bd9-0a33-4d04-b1bf-b61afbe5245f",
   "metadata": {},
   "outputs": [],
   "source": [
    "messages.keys()"
   ]
  },
  {
   "cell_type": "code",
   "execution_count": null,
   "id": "8282955c-ce23-4d89-990f-1bda135105b8",
   "metadata": {},
   "outputs": [],
   "source": []
  },
  {
   "cell_type": "code",
   "execution_count": null,
   "id": "bbb6541c-85e2-4531-baec-cc0f28cfc207",
   "metadata": {},
   "outputs": [],
   "source": []
  }
 ],
 "metadata": {
  "kernelspec": {
   "display_name": "Python 3 (ipykernel)",
   "language": "python",
   "name": "python3"
  },
  "language_info": {
   "codemirror_mode": {
    "name": "ipython",
    "version": 3
   },
   "file_extension": ".py",
   "mimetype": "text/x-python",
   "name": "python",
   "nbconvert_exporter": "python",
   "pygments_lexer": "ipython3",
   "version": "3.12.7"
  }
 },
 "nbformat": 4,
 "nbformat_minor": 5
}
