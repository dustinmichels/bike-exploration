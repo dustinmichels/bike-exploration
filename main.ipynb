{
 "cells": [
  {
   "cell_type": "code",
   "execution_count": null,
   "id": "0578adaa-047c-4523-a194-fe8bc4c7aa0e",
   "metadata": {},
   "outputs": [],
   "source": [
    "%load_ext autoreload\n",
    "%autoreload 2\n",
    "\n",
    "import sys; sys.path.insert(0, '..')"
   ]
  },
  {
   "cell_type": "code",
   "execution_count": null,
   "id": "9ae075ca-90de-499c-8b57-7e8a3d4b955b",
   "metadata": {},
   "outputs": [],
   "source": [
    "import gzip\n",
    "import json\n",
    "import os\n",
    "import pathlib\n",
    "\n",
    "import fitparse\n",
    "import pandas as pd\n",
    "from tqdm import tqdm\n",
    "from rich import print\n",
    "import numpy as np\n",
    "\n",
    "from shapely import LineString\n",
    "\n",
    "import geopandas"
   ]
  },
  {
   "cell_type": "code",
   "execution_count": null,
   "id": "0e41e8a0-ec16-4266-82a1-d81320372166",
   "metadata": {},
   "outputs": [],
   "source": [
    "from convert import (process_activities_dataframe, count_files)"
   ]
  },
  {
   "cell_type": "code",
   "execution_count": null,
   "id": "d51971a6-438f-4c93-8769-2340f6d22daa",
   "metadata": {},
   "outputs": [],
   "source": [
    "from main import main, unzip_activities, convert_activities, extract_polylines"
   ]
  },
  {
   "cell_type": "code",
   "execution_count": null,
   "id": "78a2d92d-c49c-4ce7-9ce7-3694436cede5",
   "metadata": {},
   "outputs": [],
   "source": [
    "IN_DIR = \"data/export\"\n",
    "OUT_DIR = \"data/out\""
   ]
  },
  {
   "cell_type": "code",
   "execution_count": null,
   "id": "3a1de5bd-3a16-4006-b9ea-6ef699c2812a",
   "metadata": {},
   "outputs": [],
   "source": [
    "# ! rm -rf data/out\n",
    "# ! mkdir data/out"
   ]
  },
  {
   "cell_type": "code",
   "execution_count": null,
   "id": "0d6bff01-7d2a-4199-a535-a4180b14021a",
   "metadata": {},
   "outputs": [],
   "source": [
    "# read and prepepare activities data\n",
    "df = pd.read_csv(pathlib.Path(IN_DIR).joinpath(\"activities.csv\"))\n",
    "df = process_activities_dataframe(df)\n",
    "len(df)"
   ]
  },
  {
   "cell_type": "code",
   "execution_count": null,
   "id": "66752ab2-89df-48fb-adbe-7e1ad8dfe688",
   "metadata": {},
   "outputs": [],
   "source": [
    "df.head()"
   ]
  },
  {
   "cell_type": "code",
   "execution_count": null,
   "id": "c7c57a4d-322c-4bb8-a174-8bd0161337f5",
   "metadata": {},
   "outputs": [],
   "source": []
  },
  {
   "cell_type": "markdown",
   "id": "0120150d-2ca0-4cdc-9643-5e5e6eeadcab",
   "metadata": {},
   "source": [
    "## Unzip"
   ]
  },
  {
   "cell_type": "code",
   "execution_count": null,
   "id": "a1c02649-b168-4b28-b554-af9555e48c28",
   "metadata": {},
   "outputs": [],
   "source": [
    "# df = unzip_activities(df)"
   ]
  },
  {
   "cell_type": "code",
   "execution_count": null,
   "id": "8b712b4b-e5ae-460c-978c-4087b97b0bae",
   "metadata": {},
   "outputs": [],
   "source": [
    "# df.head()"
   ]
  },
  {
   "cell_type": "code",
   "execution_count": null,
   "id": "85077021-84c3-40f1-8573-77a186953277",
   "metadata": {},
   "outputs": [],
   "source": [
    "# len(df)"
   ]
  },
  {
   "cell_type": "markdown",
   "id": "cc84216b-019a-4ef3-85c7-d64cc266926f",
   "metadata": {},
   "source": [
    "## Extract activities"
   ]
  },
  {
   "cell_type": "code",
   "execution_count": null,
   "id": "41d53592-45dc-4ff9-a505-d4031cd176c7",
   "metadata": {},
   "outputs": [],
   "source": [
    "# df = convert_activities(df)"
   ]
  },
  {
   "cell_type": "code",
   "execution_count": null,
   "id": "017689b0-720b-4231-ab4d-38391974c906",
   "metadata": {},
   "outputs": [],
   "source": [
    "# df.head()"
   ]
  },
  {
   "cell_type": "code",
   "execution_count": null,
   "id": "ae9cda53-224a-4803-90b5-d28392f0501d",
   "metadata": {},
   "outputs": [],
   "source": [
    "# len(df)"
   ]
  },
  {
   "cell_type": "code",
   "execution_count": null,
   "id": "07618ba8-7806-4f81-8a54-f1f9dcaed6d4",
   "metadata": {},
   "outputs": [],
   "source": [
    "# df.to_csv(\"save.csv\", index=False)"
   ]
  },
  {
   "cell_type": "markdown",
   "id": "f8b6374e-2ff4-4691-9c70-60bf2c2b0874",
   "metadata": {},
   "source": [
    "## Get geometry"
   ]
  },
  {
   "cell_type": "code",
   "execution_count": null,
   "id": "a6738fae-17cb-4b39-a6dd-2de61e17f85d",
   "metadata": {},
   "outputs": [],
   "source": [
    "df = pd.read_csv(\"save.csv\")"
   ]
  },
  {
   "cell_type": "code",
   "execution_count": null,
   "id": "eb28e07f-f83c-49ad-a6b0-82f40adf08cd",
   "metadata": {},
   "outputs": [],
   "source": [
    "df = extract_polylines(df)"
   ]
  },
  {
   "cell_type": "code",
   "execution_count": null,
   "id": "1501cb75-b245-4959-8804-6bca9fafb3b3",
   "metadata": {},
   "outputs": [],
   "source": [
    "df.head()"
   ]
  },
  {
   "cell_type": "code",
   "execution_count": null,
   "id": "cf4d18a7-3efd-4d72-a152-076c1aa25a3b",
   "metadata": {},
   "outputs": [],
   "source": [
    "df['multiline'] = df['multiline'].apply(lambda x: LineString(x))"
   ]
  },
  {
   "cell_type": "code",
   "execution_count": null,
   "id": "41d0d068-eaf7-4dbe-b898-ad9363841078",
   "metadata": {},
   "outputs": [],
   "source": [
    "df = geopandas.GeoDataFrame(df)"
   ]
  },
  {
   "cell_type": "code",
   "execution_count": null,
   "id": "9e195d2f-2372-445d-9bc7-72e451f06227",
   "metadata": {},
   "outputs": [],
   "source": [
    "df.rename(columns={\"multiline\": \"geometry\"}, inplace=True)"
   ]
  },
  {
   "cell_type": "code",
   "execution_count": null,
   "id": "ec5e7471-41c6-4224-9894-ed992de8e126",
   "metadata": {},
   "outputs": [],
   "source": [
    "df = df.set_geometry(\"geometry\")"
   ]
  },
  {
   "cell_type": "code",
   "execution_count": null,
   "id": "92142456-fe20-4cde-9b6b-3049f50811f5",
   "metadata": {},
   "outputs": [],
   "source": [
    "# df.iloc[30:40].plot()"
   ]
  },
  {
   "cell_type": "code",
   "execution_count": null,
   "id": "934c9c55-d340-4c92-90e5-b2f031858f8c",
   "metadata": {},
   "outputs": [],
   "source": [
    "df"
   ]
  },
  {
   "cell_type": "code",
   "execution_count": null,
   "id": "158bddb7-7f84-410c-a290-550f861f28a7",
   "metadata": {},
   "outputs": [],
   "source": []
  }
 ],
 "metadata": {
  "kernelspec": {
   "display_name": "Python 3 (ipykernel)",
   "language": "python",
   "name": "python3"
  },
  "language_info": {
   "codemirror_mode": {
    "name": "ipython",
    "version": 3
   },
   "file_extension": ".py",
   "mimetype": "text/x-python",
   "name": "python",
   "nbconvert_exporter": "python",
   "pygments_lexer": "ipython3",
   "version": "3.12.7"
  }
 },
 "nbformat": 4,
 "nbformat_minor": 5
}
