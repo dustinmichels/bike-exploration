{
 "cells": [
  {
   "cell_type": "code",
   "execution_count": null,
   "id": "24012d37-5b9f-4a13-b612-76a70aeffbf8",
   "metadata": {},
   "outputs": [],
   "source": [
    "import sys; sys.path.insert(0, '..')"
   ]
  },
  {
   "cell_type": "code",
   "execution_count": null,
   "id": "9efda80b-a316-40b3-9f57-6b28a196ab78",
   "metadata": {},
   "outputs": [],
   "source": [
    "import geopandas\n",
    "import pandas as pd\n",
    "import folium\n",
    "import json\n",
    "import matplotlib.pyplot as plt\n",
    "import numpy as np\n",
    "from datetime import datetime, timedelta\n",
    "\n",
    "import osmnx as ox"
   ]
  },
  {
   "cell_type": "code",
   "execution_count": null,
   "id": "9c5f9c90-651e-4a61-8515-4b7a75616f13",
   "metadata": {},
   "outputs": [],
   "source": [
    "df = geopandas.read_parquet(\"data/checkpoints/joined.parquet\")"
   ]
  },
  {
   "cell_type": "code",
   "execution_count": null,
   "id": "9715fe8f-b92f-4fec-850c-698f9fe5be48",
   "metadata": {},
   "outputs": [],
   "source": [
    "with open(\"data/filter.json\") as f:\n",
    "    filter_out = json.load(f)"
   ]
  },
  {
   "cell_type": "code",
   "execution_count": null,
   "id": "6fd12a63-9f10-4dc4-be31-b449594fb73f",
   "metadata": {},
   "outputs": [],
   "source": [
    "d = df[['Activity ID', 'Activity Date', 'Activity Type', 'Activity Name', 'Distance', 'geometry', 'city']].head(3)"
   ]
  },
  {
   "cell_type": "code",
   "execution_count": null,
   "id": "1e64719e-0785-46da-a8aa-c89abde54196",
   "metadata": {},
   "outputs": [],
   "source": [
    "d"
   ]
  },
  {
   "cell_type": "code",
   "execution_count": null,
   "id": "91f2b76b-c97d-4cef-b4c7-dcf81e83f1c3",
   "metadata": {},
   "outputs": [],
   "source": [
    "d['geometry'] = d['geometry'].apply(lambda x: str(x)[0:37] + \"...\")"
   ]
  },
  {
   "cell_type": "code",
   "execution_count": null,
   "id": "cfb23dfe-0474-4be1-8105-8585d73c3f76",
   "metadata": {},
   "outputs": [],
   "source": [
    "print(d.to_markdown())"
   ]
  },
  {
   "cell_type": "code",
   "execution_count": null,
   "id": "6e49646d-ee1e-476b-9065-087cf1808a73",
   "metadata": {},
   "outputs": [],
   "source": []
  },
  {
   "cell_type": "code",
   "execution_count": null,
   "id": "50539e92-4cd0-46f0-a881-1978b3c52b04",
   "metadata": {},
   "outputs": [],
   "source": []
  },
  {
   "cell_type": "code",
   "execution_count": null,
   "id": "54b535a7-6d38-456e-b9ca-4afc06c187a2",
   "metadata": {},
   "outputs": [],
   "source": [
    "df = pd.read_csv(\"data/strava/activities.csv\")"
   ]
  },
  {
   "cell_type": "code",
   "execution_count": null,
   "id": "1199aede-5909-414e-ba61-a6ac32750baa",
   "metadata": {},
   "outputs": [],
   "source": [
    "d = df[['Activity ID', 'Activity Date', 'Activity Type', 'Activity Name', 'Distance', 'Filename']].head(3)"
   ]
  },
  {
   "cell_type": "code",
   "execution_count": null,
   "id": "2eac961f-28c3-4c5a-9ae5-b81c644d479f",
   "metadata": {},
   "outputs": [],
   "source": [
    "print(d.to_markdown())"
   ]
  },
  {
   "cell_type": "code",
   "execution_count": null,
   "id": "821251c5-050b-46e8-9b97-944a84fe18df",
   "metadata": {},
   "outputs": [],
   "source": []
  },
  {
   "cell_type": "code",
   "execution_count": null,
   "id": "fe3afe59-d237-4b77-a218-f5e0b2707ca4",
   "metadata": {},
   "outputs": [],
   "source": []
  },
  {
   "cell_type": "markdown",
   "id": "f9a75832-660f-4025-8394-206401f55243",
   "metadata": {},
   "source": [
    "## Boston"
   ]
  },
  {
   "cell_type": "code",
   "execution_count": null,
   "id": "268d4b68-1636-48e5-bf5f-7e1ce90bdd8d",
   "metadata": {},
   "outputs": [],
   "source": []
  },
  {
   "cell_type": "code",
   "execution_count": null,
   "id": "4a2a4769-4674-476c-923d-b8d6a274d1e9",
   "metadata": {},
   "outputs": [],
   "source": [
    "df = geopandas.read_parquet(\"data/checkpoints/joined.parquet\")"
   ]
  },
  {
   "cell_type": "code",
   "execution_count": null,
   "id": "50964f27-0052-4576-990e-9b219508ea4c",
   "metadata": {},
   "outputs": [],
   "source": [
    "df = df[df[\"city\"] == \"Boston\"].reset_index(drop=True)"
   ]
  },
  {
   "cell_type": "code",
   "execution_count": null,
   "id": "93e5cb4e-10fe-4435-a052-8b371da0eeab",
   "metadata": {},
   "outputs": [],
   "source": [
    "# drop hand-picked activities\n",
    "df = df[~df[\"Activity ID\"].isin(filter_out[\"Boston\"])]"
   ]
  },
  {
   "cell_type": "code",
   "execution_count": null,
   "id": "ab743f49-3810-4c18-a057-daf5d603456d",
   "metadata": {},
   "outputs": [],
   "source": [
    "def reverse(coords):\n",
    "    return [(x[1], x[0]) for x in coords]\n",
    "\n",
    "# make map\n",
    "m = folium.Map(location=(42, -71), zoom_start=8, tiles=\"cartodb positron\")\n",
    "\n",
    "for i, row in df.iterrows():\n",
    "    pts = reverse(list(row[\"geometry\"].coords))\n",
    "    m.add_child(folium.PolyLine(\n",
    "        locations=pts, weight=3, tooltip=row[\"Activity ID\"],\n",
    "    ))"
   ]
  },
  {
   "cell_type": "code",
   "execution_count": null,
   "id": "c859cdef-d681-4a7e-9c7f-b62547967c79",
   "metadata": {},
   "outputs": [],
   "source": [
    "# m"
   ]
  },
  {
   "cell_type": "code",
   "execution_count": null,
   "id": "6309412a-769b-4e9a-8cf0-9e6a8c090533",
   "metadata": {},
   "outputs": [],
   "source": [
    "df['Distance'].sum()"
   ]
  },
  {
   "cell_type": "code",
   "execution_count": null,
   "id": "8b4db434-72d0-44bc-902a-645f2c3541e9",
   "metadata": {},
   "outputs": [],
   "source": [
    "d_start = df['Activity Date'].head(1).iloc[0]\n",
    "d_start"
   ]
  },
  {
   "cell_type": "code",
   "execution_count": null,
   "id": "e5b95faf-2fb7-4110-80a9-65c641366419",
   "metadata": {},
   "outputs": [],
   "source": [
    "d_end = df['Activity Date'].tail(1).iloc[0]\n",
    "d_end"
   ]
  },
  {
   "cell_type": "code",
   "execution_count": null,
   "id": "1dde916e-d823-409f-9673-aaf558e7ac7b",
   "metadata": {},
   "outputs": [],
   "source": [
    "d_start = datetime.strptime(d_start, \"%Y-%m-%d %H:%M:%S\")\n",
    "d_end = datetime.strptime(d_end, \"%Y-%m-%d %H:%M:%S\")\n",
    "\n",
    "d_end - d_start"
   ]
  },
  {
   "cell_type": "code",
   "execution_count": null,
   "id": "e1be5efe-5ddc-4c77-a907-583b17e78539",
   "metadata": {},
   "outputs": [],
   "source": []
  },
  {
   "cell_type": "code",
   "execution_count": null,
   "id": "c99a3d5e-f460-413d-a737-0cb3d43a087f",
   "metadata": {},
   "outputs": [],
   "source": []
  },
  {
   "cell_type": "code",
   "execution_count": null,
   "id": "0954de77-1255-432e-9770-be31309671cd",
   "metadata": {},
   "outputs": [],
   "source": [
    "d = df.loc[0, 'Activity Date']\n",
    "date_object = datetime.strptime(d, \"%Y-%m-%d %H:%M:%S\")\n",
    "\n",
    "dates = [date_object]\n",
    "new_date = date_object\n",
    "for i in range(len(df)-1):\n",
    "    new_date = new_date + timedelta(days=1)\n",
    "    dates.append(new_date)\n",
    "\n",
    "dates = [str(x) for x in dates]\n",
    "df['Activity Date'] = dates"
   ]
  },
  {
   "cell_type": "code",
   "execution_count": null,
   "id": "056dbc9d-90bc-4c48-8f92-afdb69d3260a",
   "metadata": {},
   "outputs": [],
   "source": []
  },
  {
   "cell_type": "code",
   "execution_count": null,
   "id": "57da430f-9453-4915-a30b-94fd1038e635",
   "metadata": {},
   "outputs": [],
   "source": [
    "df = df.rename(\n",
    "    columns={\n",
    "        \"Activity ID\": \"id\",\n",
    "        \"Activity Date\": \"datetime\",\n",
    "        \"Activity Type\": \"type\",\n",
    "        \"Activity Name\": \"name\",\n",
    "        \"Elapsed Time\": \"duration\",\n",
    "        \"Distance\": \"distance\",\n",
    "        \"new_path\": \"filepath\"\n",
    "    }\n",
    ")"
   ]
  },
  {
   "cell_type": "code",
   "execution_count": null,
   "id": "5bf32dfc-d9cc-4948-ace3-7e60002b383b",
   "metadata": {},
   "outputs": [],
   "source": [
    "df.to_file(\"out/Boston\")"
   ]
  },
  {
   "cell_type": "code",
   "execution_count": null,
   "id": "031bec43-5970-4e2c-adb6-b24c220d0bf5",
   "metadata": {},
   "outputs": [],
   "source": []
  },
  {
   "cell_type": "code",
   "execution_count": null,
   "id": "0960df9c-034d-4717-939d-6b7a4fba7bb5",
   "metadata": {},
   "outputs": [],
   "source": []
  },
  {
   "cell_type": "markdown",
   "id": "36412aa6-9a7b-445a-b2bf-45f48b15fdef",
   "metadata": {},
   "source": [
    "## Denver"
   ]
  },
  {
   "cell_type": "code",
   "execution_count": null,
   "id": "dff1f173-3adf-4de6-a606-daa151d117c6",
   "metadata": {},
   "outputs": [],
   "source": [
    "df = geopandas.read_parquet(\"data/checkpoints/joined.parquet\")"
   ]
  },
  {
   "cell_type": "code",
   "execution_count": null,
   "id": "ee623940-00c8-4f9b-9e83-d981decc3c51",
   "metadata": {},
   "outputs": [],
   "source": [
    "df = df[df[\"city\"] == \"Denver\"].reset_index(drop=True)"
   ]
  },
  {
   "cell_type": "code",
   "execution_count": null,
   "id": "d27680e2-ff7e-4e01-a272-0479d895f8d8",
   "metadata": {},
   "outputs": [],
   "source": [
    "# drop hand-picked activities\n",
    "# df = df[~df[\"Activity ID\"].isin(filter_out[\"Denver\"])]"
   ]
  },
  {
   "cell_type": "code",
   "execution_count": null,
   "id": "88b7e484-6b91-45d2-8eed-54258f7ee59b",
   "metadata": {},
   "outputs": [],
   "source": [
    "def reverse(coords):\n",
    "    return [(x[1], x[0]) for x in coords]\n",
    "\n",
    "# make map\n",
    "m = folium.Map(location=(39.75, -104.9), zoom_start=8, tiles=\"cartodb positron\")\n",
    "\n",
    "for i, row in df.iterrows():\n",
    "    pts = reverse(list(row[\"geometry\"].coords))\n",
    "    m.add_child(folium.PolyLine(\n",
    "        locations=pts, weight=3, tooltip=row[\"Activity ID\"],\n",
    "    ))"
   ]
  },
  {
   "cell_type": "code",
   "execution_count": null,
   "id": "7d3aeea3-c1b6-47cc-a499-df7be26ca671",
   "metadata": {},
   "outputs": [],
   "source": [
    "# m"
   ]
  },
  {
   "cell_type": "code",
   "execution_count": null,
   "id": "ca11bb92-40cd-4203-879f-7d3a32eb1ead",
   "metadata": {},
   "outputs": [],
   "source": [
    "df['Activity Date'] = pd.to_datetime(df['Activity Date'])"
   ]
  },
  {
   "cell_type": "code",
   "execution_count": null,
   "id": "64ed5a23-333d-45f9-bbef-7ffbb6596be9",
   "metadata": {},
   "outputs": [],
   "source": [
    "len(df)"
   ]
  },
  {
   "cell_type": "code",
   "execution_count": null,
   "id": "f4e5c6c7-f9ee-4c58-bc8d-fc248a97a499",
   "metadata": {},
   "outputs": [],
   "source": [
    "df[\"Distance\"].sum()"
   ]
  },
  {
   "cell_type": "code",
   "execution_count": null,
   "id": "f5814378-833f-4a97-95bf-c2b50e17c42c",
   "metadata": {},
   "outputs": [],
   "source": [
    "df = df[df['Activity Date'] < '2022-11-15']"
   ]
  },
  {
   "cell_type": "code",
   "execution_count": null,
   "id": "5d830fc2-5981-4888-a441-7db63174383e",
   "metadata": {},
   "outputs": [],
   "source": []
  },
  {
   "cell_type": "code",
   "execution_count": null,
   "id": "314169ad-bef4-4677-8d54-a58b3f3986d6",
   "metadata": {},
   "outputs": [],
   "source": [
    "d_start = datetime.strptime('2021-08-06', \"%Y-%m-%d\")\n",
    "d_end = datetime.strptime('2022-11-14', \"%Y-%m-%d\")\n",
    "\n",
    "d_end - d_start"
   ]
  },
  {
   "cell_type": "code",
   "execution_count": null,
   "id": "3e777d75-2a7c-4d98-b160-1a962160021b",
   "metadata": {},
   "outputs": [],
   "source": []
  },
  {
   "cell_type": "code",
   "execution_count": null,
   "id": "09a99bb9-0603-40cd-bc05-029eb3fa48cd",
   "metadata": {},
   "outputs": [],
   "source": [
    "df = pd.DataFrame(df[['Activity Date', 'Distance']])"
   ]
  },
  {
   "cell_type": "code",
   "execution_count": null,
   "id": "3dae650e-ae0b-469f-90cf-68e0a3a73c9e",
   "metadata": {},
   "outputs": [],
   "source": [
    "# df.plot(kind=\"hist\", x='Activity Date', y='Distance')"
   ]
  },
  {
   "cell_type": "markdown",
   "id": "7184ccba-ded5-4e82-b418-f8c6e398fd6f",
   "metadata": {},
   "source": [
    "### Timestamps"
   ]
  },
  {
   "cell_type": "code",
   "execution_count": null,
   "id": "77019f9b-cbd7-41ba-93ba-98f9c9eff326",
   "metadata": {},
   "outputs": [],
   "source": [
    "# df"
   ]
  },
  {
   "cell_type": "code",
   "execution_count": null,
   "id": "6ab8fa03-1119-486b-99cc-ca8e3fffc6f0",
   "metadata": {},
   "outputs": [],
   "source": [
    "d = df.loc[0, 'Activity Date']\n",
    "date_object = datetime.strptime(d, \"%Y-%m-%d %H:%M:%S\")\n",
    "date_object"
   ]
  },
  {
   "cell_type": "code",
   "execution_count": null,
   "id": "1230e6a0-a6df-4c57-9e20-bfe354f25c5c",
   "metadata": {},
   "outputs": [],
   "source": [
    "dates = [date_object]\n",
    "new_date = date_object\n",
    "for i in range(len(df)-1):\n",
    "    new_date = new_date + timedelta(days=1)\n",
    "    dates.append(new_date)"
   ]
  },
  {
   "cell_type": "code",
   "execution_count": null,
   "id": "720f6a9c-d0b3-40e8-abb7-59d129bb2c01",
   "metadata": {},
   "outputs": [],
   "source": [
    "dates = [str(x) for x in dates]\n",
    "df['Activity Date'] = dates"
   ]
  },
  {
   "cell_type": "markdown",
   "id": "8541a1f5-add0-4030-bcf0-600a6b87429d",
   "metadata": {},
   "source": [
    "### Export"
   ]
  },
  {
   "cell_type": "code",
   "execution_count": null,
   "id": "01cb914b-cbb2-47bd-a2df-fe0eaba57fcd",
   "metadata": {},
   "outputs": [],
   "source": [
    "df = df.rename(\n",
    "    columns={\n",
    "        \"Activity ID\": \"id\",\n",
    "        \"Activity Date\": \"datetime\",\n",
    "        \"Activity Type\": \"type\",\n",
    "        \"Activity Name\": \"name\",\n",
    "        \"Elapsed Time\": \"duration\",\n",
    "        \"Distance\": \"distance\",\n",
    "        \"new_path\": \"filepath\"\n",
    "    }\n",
    ")"
   ]
  },
  {
   "cell_type": "code",
   "execution_count": null,
   "id": "636c3550-6c93-4612-b442-e9a36ee2b45d",
   "metadata": {},
   "outputs": [],
   "source": [
    "df.to_file(\"out/Denver\")"
   ]
  },
  {
   "cell_type": "markdown",
   "id": "4656237c-642c-4325-9f06-303075adfdfc",
   "metadata": {},
   "source": [
    "## Gothenburg"
   ]
  },
  {
   "cell_type": "code",
   "execution_count": null,
   "id": "5e2d4ac0-9f2f-4abe-b157-773c059286ee",
   "metadata": {},
   "outputs": [],
   "source": [
    "df = geopandas.read_parquet(\"data/checkpoints/joined.parquet\")"
   ]
  },
  {
   "cell_type": "code",
   "execution_count": null,
   "id": "26464eb1-9402-447e-82cd-5b8dc4a07e89",
   "metadata": {},
   "outputs": [],
   "source": [
    "df = df[df[\"city\"] == \"Gothenburg\"].reset_index(drop=True)"
   ]
  },
  {
   "cell_type": "code",
   "execution_count": null,
   "id": "99b06734-6709-4df3-a288-f4e3cc5fd1ca",
   "metadata": {},
   "outputs": [],
   "source": [
    "# drop hand-picked activities\n",
    "df = df[~df[\"Activity ID\"].isin(filter_out[\"Gothenburg\"])]"
   ]
  },
  {
   "cell_type": "code",
   "execution_count": null,
   "id": "0adfb42f-99f3-4dfd-b76d-1f103116da6f",
   "metadata": {},
   "outputs": [],
   "source": [
    "# filter out recent activities\n",
    "# df = df[df['Activity Date'] < '2021-05-24']"
   ]
  },
  {
   "cell_type": "code",
   "execution_count": null,
   "id": "5335d2d4-0a22-442b-9616-3d39a288739f",
   "metadata": {},
   "outputs": [],
   "source": []
  },
  {
   "cell_type": "code",
   "execution_count": null,
   "id": "15579df6-64e3-40cf-82ee-4f145d36536b",
   "metadata": {},
   "outputs": [],
   "source": [
    "d_start = datetime.strptime('2020-04-05', \"%Y-%m-%d\")\n",
    "d_end = datetime.strptime('2021-04-23', \"%Y-%m-%d\")\n",
    "\n",
    "d_end - d_start"
   ]
  },
  {
   "cell_type": "code",
   "execution_count": null,
   "id": "87b9f0ab-39bc-45ef-bff5-ac8b21157cac",
   "metadata": {},
   "outputs": [],
   "source": []
  },
  {
   "cell_type": "code",
   "execution_count": null,
   "id": "0ae4192a-ccf8-4082-b2a6-182b9c465831",
   "metadata": {},
   "outputs": [],
   "source": []
  },
  {
   "cell_type": "code",
   "execution_count": null,
   "id": "20c5857a-3c81-442e-b694-20dc539ac40e",
   "metadata": {},
   "outputs": [],
   "source": [
    "df[\"Activity Date\"] = pd.to_datetime(df[\"Activity Date\"])"
   ]
  },
  {
   "cell_type": "code",
   "execution_count": null,
   "id": "d2817723-a1ce-4937-9183-e8d0e91e8a92",
   "metadata": {},
   "outputs": [],
   "source": [
    "df = df[df[\"Activity Date\"] < \"2021-04-24\"]"
   ]
  },
  {
   "cell_type": "code",
   "execution_count": null,
   "id": "768a2024-8e71-4ed9-bdf6-9fa42eb46da4",
   "metadata": {},
   "outputs": [],
   "source": [
    "len(df)"
   ]
  },
  {
   "cell_type": "code",
   "execution_count": null,
   "id": "6008e971-a631-479d-b37e-28b6784e005d",
   "metadata": {},
   "outputs": [],
   "source": [
    "df[\"Distance\"].sum()"
   ]
  },
  {
   "cell_type": "code",
   "execution_count": null,
   "id": "59fb7503-df6e-4447-b263-81a41113b43d",
   "metadata": {},
   "outputs": [],
   "source": [
    "df"
   ]
  },
  {
   "cell_type": "code",
   "execution_count": null,
   "id": "84799793-b67a-47e2-bcd9-839789a57d24",
   "metadata": {},
   "outputs": [],
   "source": []
  },
  {
   "cell_type": "code",
   "execution_count": null,
   "id": "ab072b24-de95-4e8a-86b1-41925e2e8b05",
   "metadata": {},
   "outputs": [],
   "source": []
  },
  {
   "cell_type": "code",
   "execution_count": null,
   "id": "3faf315c-62c7-494f-8e55-70ceb663f016",
   "metadata": {},
   "outputs": [],
   "source": []
  },
  {
   "cell_type": "code",
   "execution_count": null,
   "id": "aed03d9e-fbc4-4341-ab59-915a6947ec8f",
   "metadata": {},
   "outputs": [],
   "source": [
    "city_name = \"Göteborg, Sweden\"\n",
    "city_gdf = ox.geocode_to_gdf(city_name)"
   ]
  },
  {
   "cell_type": "code",
   "execution_count": null,
   "id": "b6c77000-cf99-4f66-aa98-0201f650a12d",
   "metadata": {},
   "outputs": [],
   "source": [
    "city_gdf.bbox_north"
   ]
  },
  {
   "cell_type": "code",
   "execution_count": null,
   "id": "c80a74d9-7103-4e86-a3f1-e20a02128253",
   "metadata": {},
   "outputs": [],
   "source": [
    "city_gdf.bbox_south"
   ]
  },
  {
   "cell_type": "code",
   "execution_count": null,
   "id": "c344388c-46b1-4841-8362-d0c61ea5e36a",
   "metadata": {},
   "outputs": [],
   "source": []
  },
  {
   "cell_type": "code",
   "execution_count": null,
   "id": "9370b599-ad82-4622-8e40-95ee984ca31b",
   "metadata": {},
   "outputs": [],
   "source": []
  },
  {
   "cell_type": "code",
   "execution_count": null,
   "id": "0cca5eff-e0b0-49a5-86ed-02228aa9adeb",
   "metadata": {},
   "outputs": [],
   "source": []
  },
  {
   "cell_type": "code",
   "execution_count": null,
   "id": "a798693f-d5e5-401d-bc2f-6cabd93eb951",
   "metadata": {},
   "outputs": [],
   "source": [
    "len(df)"
   ]
  },
  {
   "cell_type": "code",
   "execution_count": null,
   "id": "40007612-98d3-4423-aad9-c6a8922c1757",
   "metadata": {},
   "outputs": [],
   "source": [
    "df = df.to_crs(\"EPSG:3006\")"
   ]
  },
  {
   "cell_type": "code",
   "execution_count": null,
   "id": "7814391c-80ac-4aa0-87a8-aa3e38297a3f",
   "metadata": {},
   "outputs": [],
   "source": [
    "df.head(1).plot()"
   ]
  },
  {
   "cell_type": "code",
   "execution_count": null,
   "id": "57334319-d4e0-46d0-8eb0-07f47d717fa3",
   "metadata": {},
   "outputs": [],
   "source": []
  },
  {
   "cell_type": "code",
   "execution_count": null,
   "id": "4f60fc18-7c5a-408c-9aaa-6a9658eab126",
   "metadata": {},
   "outputs": [],
   "source": [
    "df[['x', 'y']] = pd.DataFrame(df['geometry'].apply(lambda x: x.xy).tolist(), index=df.index)"
   ]
  },
  {
   "cell_type": "code",
   "execution_count": null,
   "id": "04402f14-f3d0-4bb2-b900-b6bd2026d62f",
   "metadata": {},
   "outputs": [],
   "source": []
  },
  {
   "cell_type": "code",
   "execution_count": null,
   "id": "398656ee-5da6-4ce7-9224-8976eca968ec",
   "metadata": {},
   "outputs": [],
   "source": [
    "np.array(df[\"x\"].apply(lambda x: np.array(x).max())).max()"
   ]
  },
  {
   "cell_type": "code",
   "execution_count": null,
   "id": "6ad7fd0a-5c82-437b-b59c-4630d95a9c43",
   "metadata": {},
   "outputs": [],
   "source": [
    "np.array(df[\"y\"].apply(lambda x: np.array(x).max())).max()"
   ]
  },
  {
   "cell_type": "code",
   "execution_count": null,
   "id": "6e66f703-230b-4f82-aedc-b127b0fe656e",
   "metadata": {},
   "outputs": [],
   "source": []
  },
  {
   "cell_type": "code",
   "execution_count": null,
   "id": "72e10e90-5304-42bd-9310-580a60e72d9c",
   "metadata": {},
   "outputs": [],
   "source": [
    "np.array(df[\"x\"].apply(lambda x: np.array(x).min())).min()"
   ]
  },
  {
   "cell_type": "code",
   "execution_count": null,
   "id": "18c40f6c-bf8f-4712-b622-a67f503f3bbe",
   "metadata": {},
   "outputs": [],
   "source": [
    "np.array(df[\"y\"].apply(lambda x: np.array(x).min())).min()"
   ]
  },
  {
   "cell_type": "code",
   "execution_count": null,
   "id": "bb599afa-7c1e-48d5-997c-1ebef6fcc7bc",
   "metadata": {},
   "outputs": [],
   "source": [
    "384557 - 295637"
   ]
  },
  {
   "cell_type": "code",
   "execution_count": null,
   "id": "0fc614bd-8924-4c3b-865b-1b3876e2224c",
   "metadata": {},
   "outputs": [],
   "source": []
  },
  {
   "cell_type": "code",
   "execution_count": null,
   "id": "08f72de3-6bde-460e-91fd-d400f610d946",
   "metadata": {},
   "outputs": [],
   "source": [
    "l = df.iloc[0][\"geometry\"]"
   ]
  },
  {
   "cell_type": "code",
   "execution_count": null,
   "id": "10c72290-ea5d-4f59-9b77-28c1427172d6",
   "metadata": {},
   "outputs": [],
   "source": [
    "x, y = l.xy"
   ]
  },
  {
   "cell_type": "code",
   "execution_count": null,
   "id": "75503dff-82c9-4a82-8b80-300f73f52abb",
   "metadata": {},
   "outputs": [],
   "source": [
    "def plot(df):\n",
    "    # Create the figure and axis\n",
    "    # fig, ax = plt.subplots(figsize=(8, 6))\n",
    "    fig, ax = plt.subplots(figsize=(6, 6))\n",
    "    \n",
    "    # Set the background color to black\n",
    "    # fig.patch.set_facecolor('black')  # Figure background\n",
    "    ax.set_facecolor('black')  # Axis background\n",
    "    \n",
    "    # Set specific bounds for x and y axes\n",
    "    x_lim, y_lim = 295637, 6357281\n",
    "    ax.set_xlim(x_lim, x_lim+40000)\n",
    "    ax.set_ylim(y_lim, y_lim+40000) \n",
    "    \n",
    "    # Set aspect ratio to equal\n",
    "    ax.set_aspect('equal', adjustable='box')\n",
    "    \n",
    "    # Label the axes\n",
    "    ax.set_xlabel(\"X-Axis\")\n",
    "    ax.set_ylabel(\"Y-Axis\")\n",
    "    \n",
    "    # add a line\n",
    "    for i, row in df.iterrows():\n",
    "        geo = row[\"geometry\"]\n",
    "        x, y = geo.xy\n",
    "        ax.plot(x, y, linewidth=0.26, color=\"#C7D3DD\")\n",
    "    \n",
    "    # Customize ticks to white\n",
    "    # ax.tick_params(colors='white')\n",
    "    \n",
    "    # Display the plot\n",
    "    plt.grid(False)\n",
    "    plt.show()\n",
    "\n",
    "    return fig, ax"
   ]
  },
  {
   "cell_type": "code",
   "execution_count": null,
   "id": "584ba1fc-4025-49f9-9d24-d641b692b1db",
   "metadata": {},
   "outputs": [],
   "source": [
    "fig, ax = plot(df)"
   ]
  },
  {
   "cell_type": "code",
   "execution_count": null,
   "id": "a109a825-06e9-4711-b85c-aa35a7529799",
   "metadata": {},
   "outputs": [],
   "source": [
    "# fig.savefig(\"img.png\", dpi=300)"
   ]
  },
  {
   "cell_type": "code",
   "execution_count": null,
   "id": "c064b3ea-c76e-4334-8a87-67b89fde6d54",
   "metadata": {},
   "outputs": [],
   "source": []
  },
  {
   "cell_type": "code",
   "execution_count": null,
   "id": "38b1474e-d39d-4518-a459-e85eed3417d6",
   "metadata": {},
   "outputs": [],
   "source": []
  },
  {
   "cell_type": "code",
   "execution_count": null,
   "id": "8f6b19fc-20bc-4c71-aa79-cf1bba9ab48c",
   "metadata": {},
   "outputs": [],
   "source": [
    "# def plot_sample(df, n=1):\n",
    "#     sample = geopandas.GeoDataFrame(df.iloc[0:n])\n",
    "#     sample[\"new\"] = False\n",
    "#     sample.loc[len(sample)-1, \"new\"] = True\n",
    "#     print(sample[\"new\"].head())\n",
    "#     sample.plot(\n",
    "#         column=\"new\",\n",
    "#         cmap=\"Set3\",\n",
    "#     )"
   ]
  },
  {
   "cell_type": "code",
   "execution_count": null,
   "id": "369c5db2-fcbe-4e2a-98ac-7c0c0dd0135c",
   "metadata": {},
   "outputs": [],
   "source": [
    "# plot_sample(df, 12)"
   ]
  },
  {
   "cell_type": "code",
   "execution_count": null,
   "id": "403c3258-7e04-4718-ae43-efb218cae5c4",
   "metadata": {},
   "outputs": [],
   "source": [
    "# def reverse(coords):\n",
    "#     return [(x[1], x[0]) for x in coords]\n",
    "\n",
    "# # make map\n",
    "# m = folium.Map(location=(57.7, 11.56), zoom_start=9, tiles=\"cartodb positron\")\n",
    "\n",
    "# for i, row in df.iterrows():\n",
    "#     pts = reverse(list(row[\"geometry\"].coords))\n",
    "#     m.add_child(folium.PolyLine(\n",
    "#         locations=pts, weight=3, tooltip=row[\"Activity ID\"],\n",
    "#     ))"
   ]
  },
  {
   "cell_type": "code",
   "execution_count": null,
   "id": "fecb24b9-241f-4571-bc5c-5b70ec7628ec",
   "metadata": {},
   "outputs": [],
   "source": [
    "# m"
   ]
  },
  {
   "cell_type": "code",
   "execution_count": null,
   "id": "3fe81c43-c19c-4b9c-9ce5-c2b8b351ccc6",
   "metadata": {},
   "outputs": [],
   "source": [
    "d = df.loc[0, 'Activity Date']\n",
    "date_object = datetime.strptime(d, \"%Y-%m-%d %H:%M:%S\")\n",
    "date_object"
   ]
  },
  {
   "cell_type": "code",
   "execution_count": null,
   "id": "eb2f5f9a-9c2d-4a95-aebf-5e0356be8577",
   "metadata": {},
   "outputs": [],
   "source": [
    "dates = [date_object]\n",
    "new_date = date_object\n",
    "for i in range(len(df)-1):\n",
    "    new_date = new_date + timedelta(days=1)\n",
    "    dates.append(new_date)"
   ]
  },
  {
   "cell_type": "code",
   "execution_count": null,
   "id": "577246d0-f2f7-42e4-afa0-cb0aedaf9310",
   "metadata": {},
   "outputs": [],
   "source": [
    "dates = [str(x) for x in dates]\n",
    "df['Activity Date'] = dates"
   ]
  },
  {
   "cell_type": "code",
   "execution_count": null,
   "id": "84ffe0dc-94d4-4881-a0d5-f6abddb0b5a6",
   "metadata": {},
   "outputs": [],
   "source": [
    "df.head()"
   ]
  },
  {
   "cell_type": "code",
   "execution_count": null,
   "id": "33a8fc29-0e56-4de2-a665-d0ebe24e8ce5",
   "metadata": {},
   "outputs": [],
   "source": [
    "df = df.rename(\n",
    "    columns={\n",
    "        \"Activity ID\": \"id\",\n",
    "        \"Activity Date\": \"datetime\",\n",
    "        \"Activity Type\": \"type\",\n",
    "        \"Activity Name\": \"name\",\n",
    "        \"Elapsed Time\": \"duration\",\n",
    "        \"Distance\": \"distance\",\n",
    "        \"new_path\": \"filepath\"\n",
    "    }\n",
    ")"
   ]
  },
  {
   "cell_type": "code",
   "execution_count": null,
   "id": "bb57f419-7443-4586-830b-b694f0614a68",
   "metadata": {},
   "outputs": [],
   "source": [
    "df.to_file(\"out/gothenburg\")"
   ]
  },
  {
   "cell_type": "code",
   "execution_count": null,
   "id": "b01989c6-2e8e-4c60-a36c-51f5d2c25804",
   "metadata": {},
   "outputs": [],
   "source": [
    "df"
   ]
  },
  {
   "cell_type": "code",
   "execution_count": null,
   "id": "03baa63f-7cf5-4406-bd9c-c3a03a89c8aa",
   "metadata": {},
   "outputs": [],
   "source": []
  }
 ],
 "metadata": {
  "kernelspec": {
   "display_name": "Python 3 (ipykernel)",
   "language": "python",
   "name": "python3"
  },
  "language_info": {
   "codemirror_mode": {
    "name": "ipython",
    "version": 3
   },
   "file_extension": ".py",
   "mimetype": "text/x-python",
   "name": "python",
   "nbconvert_exporter": "python",
   "pygments_lexer": "ipython3",
   "version": "3.12.7"
  }
 },
 "nbformat": 4,
 "nbformat_minor": 5
}
