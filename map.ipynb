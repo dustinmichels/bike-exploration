{
 "cells": [
  {
   "cell_type": "code",
   "execution_count": null,
   "id": "9efda80b-a316-40b3-9f57-6b28a196ab78",
   "metadata": {},
   "outputs": [],
   "source": [
    "import geopandas\n",
    "import pandas as pd\n",
    "import folium\n",
    "import json\n",
    "import matplotlib.pyplot as plt\n",
    "import numpy as np\n",
    "from datetime import datetime, timedelta"
   ]
  },
  {
   "cell_type": "code",
   "execution_count": null,
   "id": "9c5f9c90-651e-4a61-8515-4b7a75616f13",
   "metadata": {},
   "outputs": [],
   "source": [
    "df = geopandas.read_parquet(\"joined.parquet\")"
   ]
  },
  {
   "cell_type": "code",
   "execution_count": null,
   "id": "9715fe8f-b92f-4fec-850c-698f9fe5be48",
   "metadata": {},
   "outputs": [],
   "source": [
    "with open(\"filter.json\") as f:\n",
    "    filter_out = json.load(f)"
   ]
  },
  {
   "cell_type": "markdown",
   "id": "4656237c-642c-4325-9f06-303075adfdfc",
   "metadata": {},
   "source": [
    "## Gothenburg"
   ]
  },
  {
   "cell_type": "code",
   "execution_count": null,
   "id": "26464eb1-9402-447e-82cd-5b8dc4a07e89",
   "metadata": {},
   "outputs": [],
   "source": [
    "df = df[df[\"city\"] == \"Gothenburg\"].reset_index(drop=True)"
   ]
  },
  {
   "cell_type": "code",
   "execution_count": null,
   "id": "99b06734-6709-4df3-a288-f4e3cc5fd1ca",
   "metadata": {},
   "outputs": [],
   "source": [
    "# drop hand-picked activities\n",
    "df = df[~df[\"Activity ID\"].isin(filter_out[\"Gothenburg\"])]"
   ]
  },
  {
   "cell_type": "code",
   "execution_count": null,
   "id": "0adfb42f-99f3-4dfd-b76d-1f103116da6f",
   "metadata": {},
   "outputs": [],
   "source": [
    "# filter out recent activities\n",
    "df = df[df['Activity Date'] < '2021-05-24']"
   ]
  },
  {
   "cell_type": "code",
   "execution_count": null,
   "id": "a798693f-d5e5-401d-bc2f-6cabd93eb951",
   "metadata": {},
   "outputs": [],
   "source": []
  },
  {
   "cell_type": "code",
   "execution_count": null,
   "id": "74a611f8-7216-4836-96db-db91400911d0",
   "metadata": {},
   "outputs": [],
   "source": [
    "# df.loc[0]"
   ]
  },
  {
   "cell_type": "code",
   "execution_count": null,
   "id": "7814391c-80ac-4aa0-87a8-aa3e38297a3f",
   "metadata": {},
   "outputs": [],
   "source": [
    "# df.head(1).plot()"
   ]
  },
  {
   "cell_type": "code",
   "execution_count": null,
   "id": "08f72de3-6bde-460e-91fd-d400f610d946",
   "metadata": {},
   "outputs": [],
   "source": [
    "# l = df.iloc[0][\"geometry\"]"
   ]
  },
  {
   "cell_type": "code",
   "execution_count": null,
   "id": "10c72290-ea5d-4f59-9b77-28c1427172d6",
   "metadata": {},
   "outputs": [],
   "source": [
    "# x, y = l.xy"
   ]
  },
  {
   "cell_type": "code",
   "execution_count": null,
   "id": "75503dff-82c9-4a82-8b80-300f73f52abb",
   "metadata": {},
   "outputs": [],
   "source": [
    "# def plot(df):\n",
    "#     # Create the figure and axis\n",
    "#     # fig, ax = plt.subplots(figsize=(8, 6))\n",
    "#     fig, ax = plt.subplots(figsize=(6, 6))\n",
    "    \n",
    "#     # Set the background color to black\n",
    "#     # fig.patch.set_facecolor('black')  # Figure background\n",
    "#     ax.set_facecolor('black')  # Axis background\n",
    "    \n",
    "#     # Set specific bounds for x and y axes\n",
    "#     x_lim, y_lim = 11.8, 57.6\n",
    "#     ax.set_xlim(x_lim, x_lim+0.2)\n",
    "#     ax.set_ylim(y_lim, y_lim+0.2)\n",
    "    \n",
    "#     # Set aspect ratio to equal\n",
    "#     ax.set_aspect('equal', adjustable='box')\n",
    "    \n",
    "#     # Label the axes\n",
    "#     ax.set_xlabel(\"X-Axis\")\n",
    "#     ax.set_ylabel(\"Y-Axis\")\n",
    "    \n",
    "#     # add a line\n",
    "#     for i, row in df.iterrows():\n",
    "#         geo = row[\"geometry\"]\n",
    "#         x, y = geo.xy\n",
    "#         ax.plot(x, y, linewidth=0.26, color=\"#C7D3DD\")\n",
    "    \n",
    "#     # Customize ticks to white\n",
    "#     # ax.tick_params(colors='white')\n",
    "    \n",
    "#     # Display the plot\n",
    "#     plt.grid(False)\n",
    "#     plt.show()\n",
    "\n",
    "#     return fig, ax"
   ]
  },
  {
   "cell_type": "code",
   "execution_count": null,
   "id": "584ba1fc-4025-49f9-9d24-d641b692b1db",
   "metadata": {},
   "outputs": [],
   "source": [
    "# fig, ax = plot(df)"
   ]
  },
  {
   "cell_type": "code",
   "execution_count": null,
   "id": "a109a825-06e9-4711-b85c-aa35a7529799",
   "metadata": {},
   "outputs": [],
   "source": [
    "# fig.savefig(\"img.png\", dpi=300)"
   ]
  },
  {
   "cell_type": "code",
   "execution_count": null,
   "id": "c064b3ea-c76e-4334-8a87-67b89fde6d54",
   "metadata": {},
   "outputs": [],
   "source": []
  },
  {
   "cell_type": "code",
   "execution_count": null,
   "id": "38b1474e-d39d-4518-a459-e85eed3417d6",
   "metadata": {},
   "outputs": [],
   "source": []
  },
  {
   "cell_type": "code",
   "execution_count": null,
   "id": "8f6b19fc-20bc-4c71-aa79-cf1bba9ab48c",
   "metadata": {},
   "outputs": [],
   "source": [
    "# def plot_sample(df, n=1):\n",
    "#     sample = geopandas.GeoDataFrame(df.iloc[0:n])\n",
    "#     sample[\"new\"] = False\n",
    "#     sample.loc[len(sample)-1, \"new\"] = True\n",
    "#     print(sample[\"new\"].head())\n",
    "#     sample.plot(\n",
    "#         column=\"new\",\n",
    "#         cmap=\"Set3\",\n",
    "#     )"
   ]
  },
  {
   "cell_type": "code",
   "execution_count": null,
   "id": "369c5db2-fcbe-4e2a-98ac-7c0c0dd0135c",
   "metadata": {},
   "outputs": [],
   "source": [
    "# plot_sample(df, 12)"
   ]
  },
  {
   "cell_type": "code",
   "execution_count": null,
   "id": "403c3258-7e04-4718-ae43-efb218cae5c4",
   "metadata": {},
   "outputs": [],
   "source": [
    "# def reverse(coords):\n",
    "#     return [(x[1], x[0]) for x in coords]\n",
    "\n",
    "# # make map\n",
    "# m = folium.Map(location=(57.7, 11.56), zoom_start=9, tiles=\"cartodb positron\")\n",
    "\n",
    "# for i, row in df.iterrows():\n",
    "#     pts = reverse(list(row[\"geometry\"].coords))\n",
    "#     m.add_child(folium.PolyLine(\n",
    "#         locations=pts, weight=3, tooltip=row[\"Activity ID\"],\n",
    "#     ))"
   ]
  },
  {
   "cell_type": "code",
   "execution_count": null,
   "id": "fecb24b9-241f-4571-bc5c-5b70ec7628ec",
   "metadata": {},
   "outputs": [],
   "source": [
    "# m"
   ]
  },
  {
   "cell_type": "code",
   "execution_count": null,
   "id": "3fe81c43-c19c-4b9c-9ce5-c2b8b351ccc6",
   "metadata": {},
   "outputs": [],
   "source": [
    "d = df.loc[0, 'Activity Date']\n",
    "date_object = datetime.strptime(d, \"%Y-%m-%d %H:%M:%S\")\n",
    "date_object"
   ]
  },
  {
   "cell_type": "code",
   "execution_count": null,
   "id": "eb2f5f9a-9c2d-4a95-aebf-5e0356be8577",
   "metadata": {},
   "outputs": [],
   "source": [
    "dates = [date_object]\n",
    "new_date = date_object\n",
    "for i in range(len(df)-1):\n",
    "    new_date = new_date + timedelta(days=1)\n",
    "    dates.append(new_date)"
   ]
  },
  {
   "cell_type": "code",
   "execution_count": null,
   "id": "060ae034-54a0-45a4-b485-fc7715ff33c6",
   "metadata": {},
   "outputs": [],
   "source": [
    "dates = [str(x) for x in dates]"
   ]
  },
  {
   "cell_type": "code",
   "execution_count": null,
   "id": "5db52a33-f98d-48c3-a844-14a393fcf2c9",
   "metadata": {},
   "outputs": [],
   "source": [
    "df['Activity Date'] = dates"
   ]
  },
  {
   "cell_type": "code",
   "execution_count": null,
   "id": "84ffe0dc-94d4-4881-a0d5-f6abddb0b5a6",
   "metadata": {},
   "outputs": [],
   "source": [
    "df.head()"
   ]
  },
  {
   "cell_type": "code",
   "execution_count": null,
   "id": "33a8fc29-0e56-4de2-a665-d0ebe24e8ce5",
   "metadata": {},
   "outputs": [],
   "source": [
    "df = df.rename(\n",
    "    columns={\n",
    "        \"Activity ID\": \"id\",\n",
    "        \"Activity Date\": \"datetime\",\n",
    "        \"Activity Type\": \"type\",\n",
    "        \"Activity Name\": \"name\",\n",
    "        \"Elapsed Time\": \"duration\",\n",
    "        \"Distance\": \"distance\",\n",
    "        \"new_path\": \"filepath\"\n",
    "    }\n",
    ")"
   ]
  },
  {
   "cell_type": "code",
   "execution_count": null,
   "id": "bb57f419-7443-4586-830b-b694f0614a68",
   "metadata": {},
   "outputs": [],
   "source": [
    "df.to_file(\"out/gothenburg\")"
   ]
  },
  {
   "cell_type": "code",
   "execution_count": null,
   "id": "b01989c6-2e8e-4c60-a36c-51f5d2c25804",
   "metadata": {},
   "outputs": [],
   "source": [
    "df"
   ]
  },
  {
   "cell_type": "code",
   "execution_count": null,
   "id": "03baa63f-7cf5-4406-bd9c-c3a03a89c8aa",
   "metadata": {},
   "outputs": [],
   "source": []
  }
 ],
 "metadata": {
  "kernelspec": {
   "display_name": "Python 3 (ipykernel)",
   "language": "python",
   "name": "python3"
  },
  "language_info": {
   "codemirror_mode": {
    "name": "ipython",
    "version": 3
   },
   "file_extension": ".py",
   "mimetype": "text/x-python",
   "name": "python",
   "nbconvert_exporter": "python",
   "pygments_lexer": "ipython3",
   "version": "3.12.7"
  }
 },
 "nbformat": 4,
 "nbformat_minor": 5
}
